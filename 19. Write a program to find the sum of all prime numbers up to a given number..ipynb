{
 "cells": [
  {
   "cell_type": "code",
   "execution_count": 14,
   "metadata": {},
   "outputs": [
    {
     "name": "stdout",
     "output_type": "stream",
     "text": [
      "Enter the number: 11\n",
      "The number is a prime number\n",
      "Sum of prime numbers: 12\n"
     ]
    }
   ],
   "source": [
    "num = int(input(\"Enter the number: \"))\n",
    "count = 0\n",
    "sum = 0\n",
    "\n",
    "for i in range(1, num + 1):\n",
    "    if (num % i) == 0:\n",
    "        count += 1\n",
    "        sum += i\n",
    "\n",
    "if count == 2:\n",
    "    print(\"The number is a prime number\")\n",
    "else:\n",
    "    print(\"The number is not a prime number\")\n",
    "\n",
    "print(\"Sum of prime numbers:\", sum)"
   ]
  },
  {
   "cell_type": "code",
   "execution_count": null,
   "metadata": {},
   "outputs": [],
   "source": []
  }
 ],
 "metadata": {
  "kernelspec": {
   "display_name": "Python 3",
   "language": "python",
   "name": "python3"
  },
  "language_info": {
   "codemirror_mode": {
    "name": "ipython",
    "version": 3
   },
   "file_extension": ".py",
   "mimetype": "text/x-python",
   "name": "python",
   "nbconvert_exporter": "python",
   "pygments_lexer": "ipython3",
   "version": "3.8.5"
  }
 },
 "nbformat": 4,
 "nbformat_minor": 4
}
