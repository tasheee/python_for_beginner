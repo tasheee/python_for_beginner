{
 "cells": [
  {
   "cell_type": "code",
   "execution_count": 7,
   "metadata": {},
   "outputs": [
    {
     "name": "stdout",
     "output_type": "stream",
     "text": [
      "31\n"
     ]
    }
   ],
   "source": [
    "# by predifiend python list it is possible to sum number in the list \n",
    "\n",
    "mylist=[1,2,3,4,6,7,8]\n",
    "sum=0\n",
    "for x in mylist:\n",
    "    sum=sum+x\n",
    "print(sum)\n",
    "    "
   ]
  },
  {
   "cell_type": "markdown",
   "metadata": {},
   "source": [
    "## second ways "
   ]
  },
  {
   "cell_type": "code",
   "execution_count": 24,
   "metadata": {},
   "outputs": [
    {
     "name": "stdout",
     "output_type": "stream",
     "text": [
      "Enter the numbers separated by spaces: 1,2,3,4,6,7,8\n",
      "<class 'list'>\n",
      "31\n"
     ]
    }
   ],
   "source": [
    "mylist = input(\"Enter the numbers separated by spaces: \").split(\",\")\n",
    "print(type(mylist))\n",
    "total_sum = 0\n",
    "\n",
    "for x in mylist:\n",
    "    total_sum = total_sum+ int(x)\n",
    "\n",
    "\n",
    "print(total_sum)"
   ]
  },
  {
   "cell_type": "code",
   "execution_count": null,
   "metadata": {},
   "outputs": [],
   "source": []
  }
 ],
 "metadata": {
  "kernelspec": {
   "display_name": "Python 3",
   "language": "python",
   "name": "python3"
  },
  "language_info": {
   "codemirror_mode": {
    "name": "ipython",
    "version": 3
   },
   "file_extension": ".py",
   "mimetype": "text/x-python",
   "name": "python",
   "nbconvert_exporter": "python",
   "pygments_lexer": "ipython3",
   "version": "3.8.5"
  }
 },
 "nbformat": 4,
 "nbformat_minor": 4
}
