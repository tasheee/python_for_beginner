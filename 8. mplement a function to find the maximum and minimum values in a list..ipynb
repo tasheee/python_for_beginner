{
 "cells": [
  {
   "cell_type": "code",
   "execution_count": 5,
   "metadata": {},
   "outputs": [
    {
     "name": "stdout",
     "output_type": "stream",
     "text": [
      "2\n",
      "99\n"
     ]
    }
   ],
   "source": [
    "mylist = [99, 2, 3, 4, 5, 6, 7, 8, 9]\n",
    "print(min(mylist))  #  minimum values in a list.\n",
    "print(max(mylist))  # maximum values in a list."
   ]
  },
  {
   "cell_type": "code",
   "execution_count": 14,
   "metadata": {},
   "outputs": [
    {
     "name": "stdout",
     "output_type": "stream",
     "text": [
      "Enter the numbers: 5 6 7 8 9\n",
      "5\n",
      "9\n",
      "[5, 6, 7, 8, 9]\n",
      "35\n"
     ]
    }
   ],
   "source": [
    "mylist = [int(x) for x in input(\"Enter the numbers: \").split()]\n",
    "print(min(mylist))\n",
    "print(max(mylist))\n",
    "print(sorted(mylist))\n",
    "print(sum(mylist))"
   ]
  },
  {
   "cell_type": "code",
   "execution_count": null,
   "metadata": {},
   "outputs": [],
   "source": []
  }
 ],
 "metadata": {
  "kernelspec": {
   "display_name": "Python 3",
   "language": "python",
   "name": "python3"
  },
  "language_info": {
   "codemirror_mode": {
    "name": "ipython",
    "version": 3
   },
   "file_extension": ".py",
   "mimetype": "text/x-python",
   "name": "python",
   "nbconvert_exporter": "python",
   "pygments_lexer": "ipython3",
   "version": "3.8.5"
  }
 },
 "nbformat": 4,
 "nbformat_minor": 4
}
