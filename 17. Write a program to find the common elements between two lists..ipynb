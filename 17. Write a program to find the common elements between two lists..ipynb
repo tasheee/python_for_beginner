{
 "cells": [
  {
   "cell_type": "code",
   "execution_count": 14,
   "metadata": {},
   "outputs": [
    {
     "name": "stdout",
     "output_type": "stream",
     "text": [
      " Enter the for list1 number1 2 3 4 5 6\n",
      " Enter the list2 number4 5 6 7 8 9\n",
      "['4', '5', '6']\n"
     ]
    }
   ],
   "source": [
    "# To display common Elements in both list\n",
    "def common_elements(list1,list2):\n",
    "    common_elements=[]\n",
    "    for elements in list1:\n",
    "        if elements in list2:\n",
    "            common_elements.append(elements)\n",
    "    return common_elements\n",
    "#Examaple \n",
    "list1=input(\" Enter the for list1 number\").split(\" \")\n",
    "list2=input(\" Enter the list2 number\").split(\" \")\n",
    "b=common_elements(list1,list2)\n",
    "print(b)"
   ]
  },
  {
   "cell_type": "code",
   "execution_count": 20,
   "metadata": {},
   "outputs": [
    {
     "name": "stdout",
     "output_type": "stream",
     "text": [
      " Enter the for list1 number1 2 3 4 5\n",
      " Enter the list2 number4 5 6 7 8\n",
      "['1', '2', '3']\n"
     ]
    }
   ],
   "source": [
    "#To display unique elements in list one not in list 2 \n",
    "def common_elements(list1,list2):\n",
    "    common_elements=[]\n",
    "    for elements in list1:\n",
    "        if elements  not in list2:\n",
    "            common_elements.append(elements)\n",
    "    return common_elements\n",
    "#Examaple \n",
    "list1=input(\" Enter the for list1 number\").split(\" \")\n",
    "list2=input(\" Enter the list2 number\").split(\" \")\n",
    "b=common_elements(list1,list2)\n",
    "print(b)"
   ]
  },
  {
   "cell_type": "code",
   "execution_count": null,
   "metadata": {},
   "outputs": [],
   "source": []
  }
 ],
 "metadata": {
  "kernelspec": {
   "display_name": "Python 3",
   "language": "python",
   "name": "python3"
  },
  "language_info": {
   "codemirror_mode": {
    "name": "ipython",
    "version": 3
   },
   "file_extension": ".py",
   "mimetype": "text/x-python",
   "name": "python",
   "nbconvert_exporter": "python",
   "pygments_lexer": "ipython3",
   "version": "3.8.5"
  }
 },
 "nbformat": 4,
 "nbformat_minor": 4
}
