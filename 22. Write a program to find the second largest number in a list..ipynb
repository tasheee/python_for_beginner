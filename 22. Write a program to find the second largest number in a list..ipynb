{
 "cells": [
  {
   "cell_type": "code",
   "execution_count": 2,
   "metadata": {},
   "outputs": [
    {
     "name": "stdout",
     "output_type": "stream",
     "text": [
      "Enter the number items1 2 3 6 44 55 6 25\n",
      "The second largest number is: 44\n"
     ]
    }
   ],
   "source": [
    "def find_second_largest(numbers):\n",
    "    numbers.sort()\n",
    "    return numbers[-2]\n",
    "\n",
    "# Example usage:\n",
    "num_list = [int(x) for x in input(\"Enter the number items\").split(\" \")]\n",
    "second_largest_num = find_second_largest(num_list)\n",
    "print(\"The second largest number is:\", second_largest_num)"
   ]
  },
  {
   "cell_type": "code",
   "execution_count": null,
   "metadata": {},
   "outputs": [],
   "source": []
  }
 ],
 "metadata": {
  "kernelspec": {
   "display_name": "Python 3",
   "language": "python",
   "name": "python3"
  },
  "language_info": {
   "codemirror_mode": {
    "name": "ipython",
    "version": 3
   },
   "file_extension": ".py",
   "mimetype": "text/x-python",
   "name": "python",
   "nbconvert_exporter": "python",
   "pygments_lexer": "ipython3",
   "version": "3.8.5"
  }
 },
 "nbformat": 4,
 "nbformat_minor": 4
}
