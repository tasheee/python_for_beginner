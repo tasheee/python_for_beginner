{
 "cells": [
  {
   "cell_type": "code",
   "execution_count": 6,
   "metadata": {},
   "outputs": [
    {
     "name": "stdout",
     "output_type": "stream",
     "text": [
      "Enter the number 5 6 5 3 5 4\n",
      "3\n"
     ]
    }
   ],
   "source": [
    "# count the occurance of each elements in the list  \n",
    "\n",
    "mylist=[int(x) for x in input(\"Enter the numbers \").split(\" \")]\n",
    "print(mylist.count(5))\n"
   ]
  },
  {
   "cell_type": "code",
   "execution_count": 7,
   "metadata": {},
   "outputs": [
    {
     "name": "stdout",
     "output_type": "stream",
     "text": [
      "Enter the numbers 5 6 2 1 5 6 2 3 1 5 8 9 8 4 5 2 1 5 4\n",
      "Counter({5: 5, 2: 3, 1: 3, 6: 2, 8: 2, 4: 2, 3: 1, 9: 1})\n"
     ]
    }
   ],
   "source": [
    "from collections import Counter\n",
    "mylist=[int(x) for x in input(\"Enter the numbers \").split(\" \")]\n",
    "z=Counter(mylist)\n",
    "print(z)"
   ]
  },
  {
   "cell_type": "code",
   "execution_count": null,
   "metadata": {},
   "outputs": [],
   "source": []
  }
 ],
 "metadata": {
  "kernelspec": {
   "display_name": "Python 3",
   "language": "python",
   "name": "python3"
  },
  "language_info": {
   "codemirror_mode": {
    "name": "ipython",
    "version": 3
   },
   "file_extension": ".py",
   "mimetype": "text/x-python",
   "name": "python",
   "nbconvert_exporter": "python",
   "pygments_lexer": "ipython3",
   "version": "3.8.5"
  }
 },
 "nbformat": 4,
 "nbformat_minor": 4
}
