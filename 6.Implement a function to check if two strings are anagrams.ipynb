{
 "cells": [
  {
   "cell_type": "markdown",
   "metadata": {},
   "source": [
    "# by First way"
   ]
  },
  {
   "cell_type": "code",
   "execution_count": 1,
   "metadata": {},
   "outputs": [
    {
     "name": "stdout",
     "output_type": "stream",
     "text": [
      "Enter the first wordsilent\n",
      "Enter the second wordlisten\n",
      " the two words are anagram \n"
     ]
    }
   ],
   "source": [
    "def is_anagram(word1,word2):\n",
    "    return sorted(word1.lower().replace(\" \",\"\"))==sorted(word2.lower().replace(\" \",\"\"))\n",
    "word1=input(\"Enter the first word\")\n",
    "word2=input(\"Enter the second word\")\n",
    "if is_anagram(word1,word2) is True:\n",
    "        print(\" the two words are anagram \")\n",
    "else: \n",
    "     print(\"the two number are not anagram \")"
   ]
  },
  {
   "cell_type": "markdown",
   "metadata": {},
   "source": [
    "# 2nd ways "
   ]
  },
  {
   "cell_type": "code",
   "execution_count": null,
   "metadata": {},
   "outputs": [],
   "source": [
    "def is_anagram(word1, word2):\n",
    "    return sorted(word1.lower().replace(\" \", \"\")) == sorted(word2.lower().replace(\" \", \"\"))\n",
    "\n",
    "# Example usage\n",
    "word1 = input(\"Enter the first word \")\n",
    "word2 = input(\"Enter the second word \")\n",
    "if is_anagram(word1, word2):\n",
    "    print(f\"{word1} and {word2} are anagrams!\")\n",
    "else:\n",
    "    print(f\"{word1} and {word2} are not anagrams.\")"
   ]
  },
  {
   "cell_type": "markdown",
   "metadata": {},
   "source": [
    "# The third Techniques "
   ]
  },
  {
   "cell_type": "code",
   "execution_count": 12,
   "metadata": {},
   "outputs": [
    {
     "name": "stdout",
     "output_type": "stream",
     "text": [
      "Enter the first number silent\n",
      "Enter the second numberlisten\n",
      "The two words are anagrams\n"
     ]
    }
   ],
   "source": [
    "word1=input(\"Enter the first number \").lower()\n",
    "word2=input(\"Enter the second number\").lower()\n",
    "\n",
    "word11=sorted(list(word1))\n",
    "word22=sorted(list(word2))\n",
    "if word11==word22:\n",
    "    print(\"The two words are anagrams\")\n",
    "else:\n",
    "    print(\"The two word are not anagrams \")\n",
    "\n"
   ]
  },
  {
   "cell_type": "code",
   "execution_count": null,
   "metadata": {},
   "outputs": [],
   "source": []
  }
 ],
 "metadata": {
  "kernelspec": {
   "display_name": "Python 3",
   "language": "python",
   "name": "python3"
  },
  "language_info": {
   "codemirror_mode": {
    "name": "ipython",
    "version": 3
   },
   "file_extension": ".py",
   "mimetype": "text/x-python",
   "name": "python",
   "nbconvert_exporter": "python",
   "pygments_lexer": "ipython3",
   "version": "3.8.5"
  }
 },
 "nbformat": 4,
 "nbformat_minor": 4
}
