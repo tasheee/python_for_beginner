{
 "cells": [
  {
   "cell_type": "code",
   "execution_count": 13,
   "metadata": {},
   "outputs": [
    {
     "name": "stdout",
     "output_type": "stream",
     "text": [
      "Enter the number 6 2 5 9 66 33 44\n",
      "[6, 2, 5, 9, 66, 33, 44]\n"
     ]
    }
   ],
   "source": [
    "# list Elements \n",
    "mylist=[int(x) for x in input(\"Enter the number \").split(\" \")]\n",
    "print(mylist)"
   ]
  },
  {
   "cell_type": "code",
   "execution_count": 14,
   "metadata": {},
   "outputs": [
    {
     "name": "stdout",
     "output_type": "stream",
     "text": [
      "Enter the number 22 33 55 66 44 12\n",
      "[12, 22, 33, 44, 55, 66]\n"
     ]
    }
   ],
   "source": [
    "# Sort by Ascending Order \n",
    "\n",
    "mylist=[int(x) for x in input(\"Enter the number \").split(\" \")]\n",
    "b=sorted(mylist, reverse=False)\n",
    "print(b)\n"
   ]
  },
  {
   "cell_type": "code",
   "execution_count": 15,
   "metadata": {},
   "outputs": [
    {
     "name": "stdout",
     "output_type": "stream",
     "text": [
      "Enter the number 89 4 5 1 2 5 6\n",
      "[89, 6, 5, 5, 4, 2, 1]\n"
     ]
    }
   ],
   "source": [
    "# Sort by Descending order \n",
    "\n",
    "mylist=[int(x) for x in input(\"Enter the number \").split(\" \")]\n",
    "b=sorted(mylist, reverse=True)\n",
    "print(b)\n"
   ]
  },
  {
   "cell_type": "code",
   "execution_count": null,
   "metadata": {},
   "outputs": [],
   "source": []
  }
 ],
 "metadata": {
  "kernelspec": {
   "display_name": "Python 3",
   "language": "python",
   "name": "python3"
  },
  "language_info": {
   "codemirror_mode": {
    "name": "ipython",
    "version": 3
   },
   "file_extension": ".py",
   "mimetype": "text/x-python",
   "name": "python",
   "nbconvert_exporter": "python",
   "pygments_lexer": "ipython3",
   "version": "3.8.5"
  }
 },
 "nbformat": 4,
 "nbformat_minor": 4
}
