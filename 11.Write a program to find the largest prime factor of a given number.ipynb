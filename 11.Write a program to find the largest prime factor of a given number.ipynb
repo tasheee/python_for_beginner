{
 "cells": [
  {
   "cell_type": "code",
   "execution_count": 7,
   "metadata": {},
   "outputs": [
    {
     "name": "stdout",
     "output_type": "stream",
     "text": [
      "Enter a number: 21\n",
      "The largest prime factor of 21 is: 7\n"
     ]
    }
   ],
   "source": [
    "import math\n",
    "\n",
    "def largest_prime_factor(number):\n",
    "    # Initialize the largest prime factor as 1\n",
    "    largest_factor = 1\n",
    "    \n",
    "    # Divide the number by 2 until it is no longer divisible\n",
    "    while number % 2 == 0:\n",
    "        largest_factor = 2\n",
    "        number = number // 2\n",
    "    \n",
    "    # Now, check for odd factors starting from 3\n",
    "    for i in range(3, int(math.sqrt(number)) + 1, 2):\n",
    "        while number % i == 0:\n",
    "            largest_factor = i\n",
    "            number = number // i\n",
    "    \n",
    "    # If the number itself is a prime number greater than 2\n",
    "    if number > 2:\n",
    "        largest_factor = number\n",
    "    \n",
    "    return largest_factor\n",
    "\n",
    "# Example usage\n",
    "number = int(input(\"Enter a number: \"))\n",
    "result = largest_prime_factor(number)\n",
    "print(\"The largest prime factor of\", number, \"is:\", result)"
   ]
  },
  {
   "cell_type": "code",
   "execution_count": 27,
   "metadata": {},
   "outputs": [
    {
     "name": "stdout",
     "output_type": "stream",
     "text": [
      "Enter a number: 24\n",
      "Factors of 24 are:\n",
      "1\n",
      "2\n",
      "3\n",
      "4\n",
      "6\n",
      "8\n",
      "12\n",
      "24\n"
     ]
    }
   ],
   "source": [
    "number = int(input(\"Enter a number: \"))\n",
    "print(\"Factors of\", number, \"are:\")\n",
    "for i in range(1, number + 1):\n",
    "    if number % i == 0:\n",
    "        print(i)\n",
    "   \n",
    "        "
   ]
  },
  {
   "cell_type": "code",
   "execution_count": 35,
   "metadata": {},
   "outputs": [
    {
     "name": "stdout",
     "output_type": "stream",
     "text": [
      "Enter a number: 28\n",
      "Largest prime factor of 28 is: 7\n"
     ]
    }
   ],
   "source": [
    "def largest_prime_factor(number):\n",
    "    factor = 2\n",
    "    while factor * factor <= number:\n",
    "        if number % factor == 0:\n",
    "            number //= factor\n",
    "        else:\n",
    "            factor += 1\n",
    "    return number\n",
    "\n",
    "number = int(input(\"Enter a number: \"))\n",
    "print(\"Largest prime factor of\", number, \"is:\", largest_prime_factor(number))"
   ]
  },
  {
   "cell_type": "code",
   "execution_count": null,
   "metadata": {},
   "outputs": [],
   "source": []
  }
 ],
 "metadata": {
  "kernelspec": {
   "display_name": "Python 3",
   "language": "python",
   "name": "python3"
  },
  "language_info": {
   "codemirror_mode": {
    "name": "ipython",
    "version": 3
   },
   "file_extension": ".py",
   "mimetype": "text/x-python",
   "name": "python",
   "nbconvert_exporter": "python",
   "pygments_lexer": "ipython3",
   "version": "3.8.5"
  }
 },
 "nbformat": 4,
 "nbformat_minor": 4
}
